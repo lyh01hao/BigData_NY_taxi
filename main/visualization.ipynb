{
 "cells": [
  {
   "cell_type": "code",
   "execution_count": 11,
   "metadata": {
    "collapsed": true
   },
   "outputs": [
    {
     "data": {
      "text/plain": "'/Users/lyh01hao/PycharmProjects/NY_taxi/main/visualization/passengerCount.html'"
     },
     "execution_count": 11,
     "metadata": {},
     "output_type": "execute_result"
    }
   ],
   "source": [
    "# import matplotlib.pyplot as plt\n",
    "from pyecharts.charts import Line\n",
    "from pyecharts import options as opts\n",
    "from pyecharts.globals import CurrentConfig, NotebookType\n",
    "CurrentConfig.NOTEBOOK_TYPE = NotebookType.JUPYTER_LAB\n",
    "CurrentConfig.ONLINE_HOST\n",
    "\n",
    "with open(\"./file/passengerCount.txt\") as f:\n",
    "    passengerCount = f.read()\n",
    "    passengerCount = passengerCount.split('\\n')\n",
    "    f.close()\n",
    "\n",
    "passengerCount.pop(0)\n",
    "passengerCount.pop(10)\n",
    "passengerCount.pop(3)\n",
    "passengerCount.pop(3)\n",
    "\n",
    "passengerCountX = []\n",
    "passengerCountY = []\n",
    "for i in passengerCount:\n",
    "    passengerCountX.append(i.split(' ')[0])\n",
    "    passengerCountY.append(i.split(' ')[1])\n",
    "\n",
    "pcline = (Line()\n",
    "          .add_xaxis(passengerCountX)\n",
    "          .add_yaxis('',passengerCountY)\n",
    "          )\n",
    "pcline.render(\"./visualization/passengerCount.html\")"
   ]
  },
  {
   "cell_type": "code",
   "execution_count": 10,
   "metadata": {
    "collapsed": false,
    "pycharm": {
     "name": "#%%\n"
    }
   },
   "outputs": [
    {
     "ename": "IndexError",
     "evalue": "list index out of range",
     "output_type": "error",
     "traceback": [
      "\u001B[0;31m---------------------------------------------------------------------------\u001B[0m",
      "\u001B[0;31mIndexError\u001B[0m                                Traceback (most recent call last)",
      "\u001B[0;32m<ipython-input-10-6b0711904c72>\u001B[0m in \u001B[0;36m<module>\u001B[0;34m\u001B[0m\n\u001B[1;32m     11\u001B[0m \u001B[0;32mfor\u001B[0m \u001B[0mi\u001B[0m \u001B[0;32min\u001B[0m \u001B[0mdateTimeCount\u001B[0m\u001B[0;34m:\u001B[0m\u001B[0;34m\u001B[0m\u001B[0;34m\u001B[0m\u001B[0m\n\u001B[1;32m     12\u001B[0m     \u001B[0mdateTimeCountX\u001B[0m\u001B[0;34m.\u001B[0m\u001B[0mappend\u001B[0m\u001B[0;34m(\u001B[0m\u001B[0mi\u001B[0m\u001B[0;34m.\u001B[0m\u001B[0msplit\u001B[0m\u001B[0;34m(\u001B[0m\u001B[0;34m' '\u001B[0m\u001B[0;34m)\u001B[0m\u001B[0;34m[\u001B[0m\u001B[0;36m0\u001B[0m\u001B[0;34m]\u001B[0m\u001B[0;34m)\u001B[0m\u001B[0;34m\u001B[0m\u001B[0;34m\u001B[0m\u001B[0m\n\u001B[0;32m---> 13\u001B[0;31m     \u001B[0mdateTimeCountY\u001B[0m\u001B[0;34m.\u001B[0m\u001B[0mappend\u001B[0m\u001B[0;34m(\u001B[0m\u001B[0mi\u001B[0m\u001B[0;34m.\u001B[0m\u001B[0msplit\u001B[0m\u001B[0;34m(\u001B[0m\u001B[0;34m' '\u001B[0m\u001B[0;34m)\u001B[0m\u001B[0;34m[\u001B[0m\u001B[0;36m1\u001B[0m\u001B[0;34m]\u001B[0m\u001B[0;34m)\u001B[0m\u001B[0;34m\u001B[0m\u001B[0;34m\u001B[0m\u001B[0m\n\u001B[0m\u001B[1;32m     14\u001B[0m \u001B[0;34m\u001B[0m\u001B[0m\n\u001B[1;32m     15\u001B[0m dateTimeCountLine = (Line()\n",
      "\u001B[0;31mIndexError\u001B[0m: list index out of range"
     ]
    }
   ],
   "source": [
    "from pyecharts.charts import Line\n",
    "from pyecharts import options as opts\n",
    "\n",
    "with open(\"./file/dateTimeCount.txt\") as f:\n",
    "    dateTimeCount = f.read()\n",
    "    dateTimeCount = dateTimeCount.split('\\n')\n",
    "    f.close()\n",
    "\n",
    "dateTimeCount.pop(0)\n",
    "dateTimeCount.pop(-1)\n",
    "\n",
    "dateTimeCountX = []\n",
    "dateTimeCountY = []\n",
    "for i in dateTimeCount:\n",
    "    i_s = i.split(' ')\n",
    "    dateTimeCountX.append(i_s[0])\n",
    "    print(i_s[1])\n",
    "    dateTimeCountY.append(i.split(' ')[1])\n",
    "\n",
    "dateTimeCountLine = (Line()\n",
    "        .add_xaxis(dateTimeCountX)\n",
    "        .add_yaxis('车次', dateTimeCountY)\n",
    "        .set_global_opts(title_opts=opts.TitleOpts(title=\"不同日期的乘车数\"))\n",
    "        .set_series_opts(label_opts=opts.LabelOpts(is_show=False))\n",
    "          )\n",
    "dateTimeCountLine.render(\"./visualization/dateTimeCount.html\")\n"
   ]
  },
  {
   "cell_type": "code",
   "execution_count": null,
   "outputs": [],
   "source": [
    "with open(\"./file/hourTimeCount.txt\") as f:\n",
    "    hourTimeCount = f.read()\n",
    "    hourTimeCount = hourTimeCount.split('\\n')\n",
    "    f.close()\n",
    "\n",
    "hourTimeCount.pop(0)\n",
    "hourTimeCount.pop(-1)\n",
    "\n",
    "hourTimeCountX = []\n",
    "hourTimeCountY = []\n",
    "for i in hourTimeCount:\n",
    "    i_s = i.split(' ')\n",
    "    print(i_s[0])\n",
    "    hourTimeCountX.append(i_s[0])\n",
    "    print(i_s[1])\n",
    "    hourTimeCountY.append(i.split(' ')[1])\n",
    "\n",
    "hourTimeCountLine = (Line()\n",
    "        .add_xaxis(hourTimeCountX)\n",
    "        .add_yaxis('车次', hourTimeCountY)\n",
    "        .set_global_opts(title_opts=opts.TitleOpts(title=\"不同时段的乘车数\"))\n",
    "        .set_series_opts(label_opts=opts.LabelOpts(is_show=False))\n",
    "          )\n",
    "hourTimeCountLine.render(\"./visualization/hourTimeCount.html\")\n",
    "\n"
   ],
   "metadata": {
    "collapsed": false,
    "pycharm": {
     "name": "#%%\n"
    }
   }
  },
  {
   "cell_type": "code",
   "execution_count": null,
   "outputs": [],
   "source": [
    "with open(\"./file/tripTimePartition.txt\") as f:\n",
    "    tripTimePartition = f.read()\n",
    "    tripTimePartition = tripTimePartition.split('\\n')\n",
    "    f.close()\n",
    "\n",
    "tripTimePartition.pop(0)\n",
    "tripTimePartition.pop(-1)\n",
    "\n",
    "tripTimePartitionX = []\n",
    "tripTimePartitionY = []\n",
    "for i in tripTimePartition:\n",
    "    i_s = i.split(' ')\n",
    "    print(i_s[0])\n",
    "    tripTimePartitionX.append(i_s[0].split('-')[0])\n",
    "    print(i_s[1])\n",
    "    tripTimePartitionY.append(i.split(' ')[1])\n",
    "\n",
    "tripTimePartitionLine = (Line()\n",
    "        .add_xaxis(tripTimePartitionX)\n",
    "        .add_yaxis('', tripTimePartitionY)\n",
    "        .set_global_opts(title_opts=opts.TitleOpts(title=\"乘客乘车时间分布 单位为分钟\"))\n",
    "        .set_series_opts(label_opts=opts.LabelOpts(is_show=False))\n",
    "          )\n",
    "tripTimePartitionLine.render(\"./visualization/tripTimePartition.html\")\n"
   ],
   "metadata": {
    "collapsed": false,
    "pycharm": {
     "name": "#%%\n"
    }
   }
  },
  {
   "cell_type": "code",
   "execution_count": null,
   "outputs": [],
   "source": [
    "with open(\"./file/tripDistancePartition.txt\") as f:\n",
    "    tripDistancePartition = f.read()\n",
    "    tripDistancePartition = tripDistancePartition.split('\\n')\n",
    "    f.close()\n",
    "\n",
    "tripDistancePartition.pop(0)\n",
    "tripDistancePartition.pop(-1)\n",
    "\n",
    "tripDistancePartitionX = []\n",
    "tripDistancePartitionY = []\n",
    "for i in tripDistancePartition:\n",
    "    i_s = i.split(' ')\n",
    "    print(i_s[0])\n",
    "    tripDistancePartitionX.append(i_s[0].split('-')[0])\n",
    "    print(i_s[1])\n",
    "    tripDistancePartitionY.append(i.split(' ')[1])\n",
    "\n",
    "tripDistancePartitionLine = (Line()\n",
    "        .add_xaxis(tripDistancePartitionX)\n",
    "        .add_yaxis('', tripDistancePartitionY, is_symbol_show=False)\n",
    "        .set_global_opts(title_opts=opts.TitleOpts(title=\"乘客乘车距离分布 单位为KM\"))\n",
    "        .set_series_opts(label_opts=opts.LabelOpts(is_show=False))\n",
    "          )\n",
    "\n",
    "tripDistancePartitionLine.render(\"./visualization/tripDistancePartition.html\")\n",
    "\n"
   ],
   "metadata": {
    "collapsed": false,
    "pycharm": {
     "name": "#%%\n"
    }
   }
  }
 ],
 "metadata": {
  "interpreter": {
   "hash": "3067ead486e059ec00ffe7555bdb889e6e264a24dc711bf108106cc7baee8d5d"
  },
  "kernelspec": {
   "display_name": "PyCharm (NY_taxi)",
   "language": "python",
   "name": "pycharm-5b170f1f"
  },
  "language_info": {
   "codemirror_mode": {
    "name": "ipython",
    "version": 3
   },
   "file_extension": ".py",
   "mimetype": "text/x-python",
   "name": "python",
   "nbconvert_exporter": "python",
   "pygments_lexer": "ipython3",
   "version": "3.8.5"
  }
 },
 "nbformat": 4,
 "nbformat_minor": 0
}